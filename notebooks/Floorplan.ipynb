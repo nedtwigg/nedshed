{
 "cells": [
  {
   "cell_type": "markdown",
   "metadata": {},
   "source": [
    "# Floorplan\n",
    "\n",
    "We want to make sure a queensize mattreess can fit. How small can we make the interior and still get away with that?"
   ]
  },
  {
   "cell_type": "code",
   "execution_count": 1,
   "metadata": {},
   "outputs": [
    {
     "name": "stdout",
     "output_type": "stream",
     "text": [
      "Overwriting auto display for cadquery Workplane and Shape\n",
      "\n",
      "Enabling jupyter_cadquery replay\n"
     ]
    }
   ],
   "source": [
    "# cadquery imports\n",
    "import math\n",
    "import cadquery as cq\n",
    "from jupyter_cadquery.cadquery import (Assembly, Part, Edges, Faces, Vertices, show, \n",
    "                                       replay, enable_replay, disable_replay, reset_replay)\n",
    "from jupyter_cadquery import set_sidecar, set_defaults\n",
    "\n",
    "set_defaults(axes=True, edge_accuracy=0.05, grid=True, axes0=True)\n",
    "\n",
    "set_sidecar(\"CadQuery\")\n",
    "enable_replay()"
   ]
  },
  {
   "cell_type": "code",
   "execution_count": 5,
   "metadata": {},
   "outputs": [
    {
     "name": "stderr",
     "output_type": "stream",
     "text": [
      "RuntimeWarning: jupyter_cadquery replay is enabled, turn off with disable_replay()"
     ]
    },
    {
     "name": "stdout",
     "output_type": "stream",
     "text": [
      "Done, using side car 'CadQuery'\n"
     ]
    },
    {
     "data": {
      "text/plain": [
       "<jupyter_cadquery.cad_display.CadqueryDisplay at 0x7f893d9340d0>"
      ]
     },
     "execution_count": 5,
     "metadata": {},
     "output_type": "execute_result"
    }
   ],
   "source": [
    "# the interior floor\n",
    "ft_side = 9.0\n",
    "ft_corner = 4.5\n",
    "floor = cq.Workplane(\"XY\").lineTo(ft_side, 0).lineTo(ft_side, ft_corner).lineTo(ft_corner, ft_side).lineTo(0, ft_side).close().extrude(1.0)\n",
    "\n",
    "# the queenbed we want to fit\n",
    "ft_queenWidth = 60/12.0\n",
    "ft_queenHeight = 80/12.0\n",
    "queenbed = cq.Workplane(\"XY\").box(ft_queenWidth, ft_queenHeight, 1.0)\n",
    "\n",
    "# put it together in various configurations\n",
    "show(Assembly([\n",
    "    Part(floor, \"floor\", \"#ff0000\"),\n",
    "    Part(queenbed.translate((3,4,1.5)), \"queenbed\", \"#00ff00\"),\n",
    "    Part(queenbed.rotate((0,0,0),(0,0,1),45).translate((4.25,4.25,1.5)), \"queenbed\", \"#0000ff\"),\n",
    "    Part(queenbed.rotate((0,0,0),(0,0,1),-45).translate((4.25,4.25,1.5)), \"queenbed\", \"#0000ff\")\n",
    "]), position=(0,0,1))"
   ]
  }
 ],
 "metadata": {
  "kernelspec": {
   "display_name": "Python 3",
   "language": "python",
   "name": "python3"
  },
  "language_info": {
   "codemirror_mode": {
    "name": "ipython",
    "version": 3
   },
   "file_extension": ".py",
   "mimetype": "text/x-python",
   "name": "python",
   "nbconvert_exporter": "python",
   "pygments_lexer": "ipython3",
   "version": "3.7.7"
  }
 },
 "nbformat": 4,
 "nbformat_minor": 4
}
