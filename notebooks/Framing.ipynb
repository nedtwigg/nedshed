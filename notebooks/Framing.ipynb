{
 "cells": [
  {
   "cell_type": "markdown",
   "metadata": {},
   "source": [
    "# Framing plan"
   ]
  },
  {
   "cell_type": "code",
   "execution_count": 62,
   "metadata": {},
   "outputs": [
    {
     "name": "stdout",
     "output_type": "stream",
     "text": [
      "\n",
      "Enabling jupyter_cadquery replay\n"
     ]
    },
    {
     "name": "stderr",
     "output_type": "stream",
     "text": [
      "RuntimeWarning: jupyter_cadquery replay is enabled, turn off with disable_replay()"
     ]
    }
   ],
   "source": [
    "# cadquery imports\n",
    "import math\n",
    "import numpy\n",
    "import cadquery as cq\n",
    "from jupyter_cadquery.cadquery import (Assembly, Part, Edges, Faces, Vertices, show, \n",
    "                                       replay, enable_replay, disable_replay, reset_replay)\n",
    "from jupyter_cadquery import set_sidecar, set_defaults\n",
    "\n",
    "set_defaults(axes=True, edge_accuracy=0.05, grid=True, axes0=True)\n",
    "\n",
    "set_sidecar(\"Framing\")\n",
    "enable_replay()"
   ]
  },
  {
   "cell_type": "code",
   "execution_count": 85,
   "metadata": {},
   "outputs": [
    {
     "name": "stderr",
     "output_type": "stream",
     "text": [
      "RuntimeWarning: jupyter_cadquery replay is enabled, turn off with disable_replay()"
     ]
    },
    {
     "name": "stdout",
     "output_type": "stream",
     "text": [
      "{'miter': 14.036243467926479, 'base plate': 8, 'top plate (along both faces)': 8.246211251235321, 'stud 1 (short side)': 7.714902949199448, 'stud 2 (short side)': 7.381569615866115, 'stud 3 (short side)': 7.048236282532781, 'stud 4 (short side)': 6.714902949199448, 'stud 5 (short side)': 6.381569615866115, 'stud 6 (short side)': 6.048236282532782, 'stud 7 (short side)': 5.746152949199448}\n",
      "Done, using side car 'Framing'\n"
     ]
    },
    {
     "data": {
      "text/plain": [
       "<jupyter_cadquery.cad_display.CadqueryDisplay at 0x7f3bb232b4d0>"
      ]
     },
     "execution_count": 85,
     "metadata": {},
     "output_type": "execute_result"
    }
   ],
   "source": [
    "class Wall:\n",
    "  def __init__(self, width, height_left, height_right):\n",
    "    self.width = width;\n",
    "    self.height_left = height_left\n",
    "    self.height_right = height_right\n",
    "    self.board_long = 3.5/12\n",
    "    self.board_short = 1.5/12\n",
    "    self.spacing = 16/12\n",
    "\n",
    "  def model(self):\n",
    "    assembly = []\n",
    "    angleRad = math.atan((self.height_left - self.height_right) / self.width)\n",
    "    thicknessFromTopPlateAngle = self.board_short * (1.0/math.cos(angleRad) - 1)\n",
    "    # baseplate\n",
    "    assembly.append(cq.Workplane(\"XY\").box(self.width, self.board_long, self.board_short, (False, False, False)))\n",
    "    # top plate\n",
    "    top_length = self.width/math.cos(angleRad)\n",
    "    assembly.append(cq.Workplane(\"XY\").box(top_length, self.board_long, self.board_short, (False, False, False))\\\n",
    "                    .rotate((0,0,0),(0,1,0),math.degrees(angleRad)).translate((0, 0, self.height_left - self.board_short - thicknessFromTopPlateAngle)))\n",
    "    cutList = {\"miter\": math.degrees(angleRad), \"base plate\": self.width, \"top plate (along both faces)\": top_length}\n",
    "\n",
    "    studIdx = 1\n",
    "    # studs\n",
    "    def stud(x):\n",
    "      nonlocal studIdx\n",
    "      height = self.height_left + x * (self.height_right - self.height_left) / self.width\n",
    "      height = height - 2 * self.board_short - self.board_short * math.tan(angleRad) - thicknessFromTopPlateAngle\n",
    "      cutList[f'stud {studIdx} (short side)'] = height\n",
    "      studIdx = studIdx + 1\n",
    "      return cq.Workplane(\"XY\").box(self.board_short, self.board_long, height, (False, False, False)).translate((x, 0, self.board_short))\n",
    "    for x in numpy.arange(0.0, self.width - 2 * self.board_short, self.spacing):\n",
    "      assembly.append(stud(x))\n",
    "    assembly.append(stud(self.width - self.board_short))\n",
    "    print(cutList)\n",
    "\n",
    "    ## calibration boards\n",
    "    assembly.append(cq.Workplane(\"XY\").box(self.width, self.board_long, self.board_short, (False, False, False))\\\n",
    "                    .translate((0,0,self.height_left-self.board_short)))\n",
    "    assembly.append(cq.Workplane(\"XY\").box(self.width, self.board_long, self.board_short, (False, False, False))\\\n",
    "                    .translate((0,0,self.height_right-self.board_short)))\n",
    "\n",
    "    return Assembly(list(map(lambda p: Part(p), assembly)))\n",
    "\n",
    "show(Wall(8, 8, 6).model())"
   ]
  },
  {
   "cell_type": "code",
   "execution_count": 86,
   "metadata": {},
   "outputs": [
    {
     "name": "stderr",
     "output_type": "stream",
     "text": [
      "RuntimeWarning: jupyter_cadquery replay is enabled, turn off with disable_replay()"
     ]
    },
    {
     "ename": "SyntaxError",
     "evalue": "invalid syntax (<ipython-input-86-894f6f2e991c>, line 8)",
     "output_type": "error",
     "traceback": [
      "\u001b[0;36m  File \u001b[0;32m\"<ipython-input-86-894f6f2e991c>\"\u001b[0;36m, line \u001b[0;32m8\u001b[0m\n\u001b[0;31m    def pts =    [(0,0),    (ft_side,0), (ft_side,ft_corner), (ft_corner,ft_side), (0,ft_side), (0,0)   ]\u001b[0m\n\u001b[0m            ^\u001b[0m\n\u001b[0;31mSyntaxError\u001b[0m\u001b[0;31m:\u001b[0m invalid syntax\n"
     ]
    }
   ],
   "source": [
    "ft_side = 9.0\n",
    "ft_corner = 4.5\n",
    "\n",
    "ft_fence   = 6.0  # height along fence\n",
    "ft_cornerH = 7.0  # height at hip break\n",
    "ft_peak    = 8.0  # height at the peak\n",
    "\n",
    "def pts =    [(0,0),    (ft_side,0), (ft_side,ft_corner), (ft_corner,ft_side), (0,ft_side), (0,0)   ]\n",
    "def height = [ft_fence, ft_fence,    ft_cornerH,          ft_cornerH,          ft_fence,   ft_fence ]\n",
    "\n",
    "\n",
    "walls = []\n",
    "for i in range(0, len(pts) - 1):\n",
    "    pt_left = pts[i]\n",
    "    pt_right = pts[i + 1]  "
   ]
  },
  {
   "cell_type": "code",
   "execution_count": null,
   "metadata": {},
   "outputs": [],
   "source": []
  }
 ],
 "metadata": {
  "kernelspec": {
   "display_name": "Python 3",
   "language": "python",
   "name": "python3"
  },
  "language_info": {
   "codemirror_mode": {
    "name": "ipython",
    "version": 3
   },
   "file_extension": ".py",
   "mimetype": "text/x-python",
   "name": "python",
   "nbconvert_exporter": "python",
   "pygments_lexer": "ipython3",
   "version": "3.7.7"
  }
 },
 "nbformat": 4,
 "nbformat_minor": 4
}
