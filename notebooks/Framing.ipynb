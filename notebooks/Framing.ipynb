{
 "cells": [
  {
   "cell_type": "markdown",
   "metadata": {},
   "source": [
    "# Framing plan"
   ]
  },
  {
   "cell_type": "code",
   "execution_count": 1,
   "metadata": {},
   "outputs": [
    {
     "name": "stdout",
     "output_type": "stream",
     "text": [
      "Overwriting auto display for cadquery Workplane and Shape\n",
      "\n",
      "Enabling jupyter_cadquery replay\n"
     ]
    }
   ],
   "source": [
    "# cadquery imports\n",
    "import math\n",
    "import numpy\n",
    "import cadquery as cq\n",
    "from jupyter_cadquery.cadquery import (Assembly, Part, Edges, Faces, Vertices, show, \n",
    "                                       replay, enable_replay, disable_replay, reset_replay)\n",
    "from jupyter_cadquery import set_sidecar, set_defaults\n",
    "\n",
    "set_defaults(axes=True, edge_accuracy=0.05, grid=True, axes0=True)\n",
    "\n",
    "set_sidecar(\"Framing\")\n",
    "enable_replay()"
   ]
  },
  {
   "cell_type": "code",
   "execution_count": 21,
   "metadata": {},
   "outputs": [
    {
     "name": "stderr",
     "output_type": "stream",
     "text": [
      "RuntimeWarning: jupyter_cadquery replay is enabled, turn off with disable_replay()"
     ]
    },
    {
     "name": "stdout",
     "output_type": "stream",
     "text": [
      "{'miter': -14.036243467926479, 'base plate': 8, 'top plate (along both faces)': 8.246211251235321, 'stud 1 (short side)': 5.746152949199448, 'stud 2 (short side)': 6.079486282532781, 'stud 3 (short side)': 6.412819615866115, 'stud 4 (short side)': 6.746152949199448, 'stud 5 (short side)': 7.079486282532781, 'stud 6 (short side)': 7.412819615866114, 'stud 7 (short side)': 7.714902949199448}\n",
      "Done, using side car 'Framing'\n"
     ]
    },
    {
     "data": {
      "text/plain": [
       "<jupyter_cadquery.cad_display.CadqueryDisplay at 0x7f6fe69c3a50>"
      ]
     },
     "execution_count": 21,
     "metadata": {},
     "output_type": "execute_result"
    }
   ],
   "source": [
    "class Wall:\n",
    "  def __init__(self, width, height_left, height_right):\n",
    "    self.width = width;\n",
    "    self.height_left = height_left\n",
    "    self.height_right = height_right\n",
    "    self.board_long = 3.5/12\n",
    "    self.board_short = 1.5/12\n",
    "    self.spacing = 16/12\n",
    "\n",
    "  def model(self):\n",
    "    assembly = []\n",
    "    angleRad = math.atan((self.height_left - self.height_right) / self.width)\n",
    "    thicknessFromTopPlateAngle = self.board_short * (1.0/math.cos(angleRad) - 1)\n",
    "    # baseplate\n",
    "    assembly.append(cq.Workplane(\"XY\").box(self.width, self.board_long, self.board_short, (False, False, False)))\n",
    "    # top plate\n",
    "    top_length = self.width/math.cos(angleRad)\n",
    "    assembly.append(cq.Workplane(\"XY\").box(top_length, self.board_long, self.board_short, (False, False, False))\\\n",
    "                    .rotate((0,0,0),(0,1,0),math.degrees(angleRad)).translate((0, 0, self.height_left - self.board_short - thicknessFromTopPlateAngle)))\n",
    "    cutList = {\"miter\": math.degrees(angleRad), \"base plate\": self.width, \"top plate (along both faces)\": top_length}\n",
    "\n",
    "    studIdx = 1\n",
    "    # studs\n",
    "    def stud(x):\n",
    "      nonlocal studIdx\n",
    "      height = self.height_left + x * (self.height_right - self.height_left) / self.width\n",
    "      height = height - 2 * self.board_short - thicknessFromTopPlateAngle - max(0, self.board_short * math.tan(angleRad))\n",
    "      cutList[f'stud {studIdx} (short side)'] = height\n",
    "      studIdx = studIdx + 1\n",
    "      return cq.Workplane(\"XY\").box(self.board_short, self.board_long, height, (False, False, False)).translate((x, 0, self.board_short))\n",
    "    for x in numpy.arange(0.0, self.width - 2 * self.board_short, self.spacing):\n",
    "      assembly.append(stud(x))\n",
    "    assembly.append(stud(self.width - self.board_short))\n",
    "    print(cutList)\n",
    "\n",
    "    ## calibration boards\n",
    "#     assembly.append(cq.Workplane(\"XY\").box(self.width, self.board_long, self.board_short, (False, False, False))\\\n",
    "#                     .translate((0,0,self.height_left-self.board_short)))\n",
    "#     assembly.append(cq.Workplane(\"XY\").box(self.width, self.board_long, self.board_short, (False, False, False))\\\n",
    "#                     .translate((0,0,self.height_right-self.board_short)))\n",
    "\n",
    "    return Assembly(list(map(lambda p: Part(p), assembly)))\n",
    "\n",
    "show(Wall(8, 6, 8).model())"
   ]
  },
  {
   "cell_type": "code",
   "execution_count": 30,
   "metadata": {},
   "outputs": [
    {
     "name": "stderr",
     "output_type": "stream",
     "text": [
      "RuntimeWarning: jupyter_cadquery replay is enabled, turn off with disable_replay()"
     ]
    },
    {
     "name": "stdout",
     "output_type": "stream",
     "text": [
      "{'miter': 0.0, 'base plate': 9.0, 'top plate (along both faces)': 9.0, 'stud 1 (short side)': 5.75, 'stud 2 (short side)': 5.75, 'stud 3 (short side)': 5.75, 'stud 4 (short side)': 5.75, 'stud 5 (short side)': 5.75, 'stud 6 (short side)': 5.75, 'stud 7 (short side)': 5.75, 'stud 8 (short side)': 5.75}\n",
      "{'miter': -12.528807709151511, 'base plate': 4.5, 'top plate (along both faces)': 4.6097722286464435, 'stud 1 (short side)': 5.746950771426488, 'stud 2 (short side)': 6.043247067722784, 'stud 3 (short side)': 6.339543364019081, 'stud 4 (short side)': 6.635839660315377, 'stud 5 (short side)': 6.71917299364871}\n",
      "{'miter': 0.0, 'base plate': 6.363961030678928, 'top plate (along both faces)': 6.363961030678928, 'stud 1 (short side)': 6.75, 'stud 2 (short side)': 6.75, 'stud 3 (short side)': 6.75, 'stud 4 (short side)': 6.75, 'stud 5 (short side)': 6.75, 'stud 6 (short side)': 6.75}\n",
      "{'miter': 12.528807709151511, 'base plate': 4.5, 'top plate (along both faces)': 4.6097722286464435, 'stud 1 (short side)': 6.71917299364871, 'stud 2 (short side)': 6.4228766973524145, 'stud 3 (short side)': 6.126580401056118, 'stud 4 (short side)': 5.830284104759821, 'stud 5 (short side)': 5.746950771426488}\n",
      "{'miter': 0.0, 'base plate': 9.0, 'top plate (along both faces)': 9.0, 'stud 1 (short side)': 5.75, 'stud 2 (short side)': 5.75, 'stud 3 (short side)': 5.75, 'stud 4 (short side)': 5.75, 'stud 5 (short side)': 5.75, 'stud 6 (short side)': 5.75, 'stud 7 (short side)': 5.75, 'stud 8 (short side)': 5.75}\n",
      "Done, using side car 'Framing'\n"
     ]
    },
    {
     "data": {
      "text/plain": [
       "<jupyter_cadquery.cad_display.CadqueryDisplay at 0x7f6fe6e45c90>"
      ]
     },
     "execution_count": 30,
     "metadata": {},
     "output_type": "execute_result"
    }
   ],
   "source": [
    "h_interior = 3.5 # width of 2x4 framing\n",
    "h_side = 9.0     # from floorplan\n",
    "h_corner = 4.5   #\n",
    "\n",
    "v_fence   = 6.0  # height along fence\n",
    "v_corner = 7.0  # height at hip break\n",
    "v_peak   = 8.0  # height at the peak\n",
    "\n",
    "pts =    [ (0,0),   (h_side,0), (h_side,h_corner), (h_corner,h_side), (0,h_side), (0,0)   ]\n",
    "height = [ v_fence, v_fence,    v_corner,          v_corner,          v_fence,    v_fence ]\n",
    "\n",
    "\n",
    "walls = []\n",
    "for i in range(0, len(pts) - 1):\n",
    "    pt_left = pts[i]\n",
    "    pt_right = pts[i + 1]\n",
    "    wall_len = math.sqrt((pt_left[0]-pt_right[0])**2 + (pt_left[1]-pt_right[1])**2)\n",
    "    walls.append(Wall(wall_len, height[i], height[i+1]).model())\n",
    "\n",
    "show(Assembly(walls))"
   ]
  },
  {
   "cell_type": "code",
   "execution_count": null,
   "metadata": {},
   "outputs": [],
   "source": []
  }
 ],
 "metadata": {
  "kernelspec": {
   "display_name": "Python 3",
   "language": "python",
   "name": "python3"
  },
  "language_info": {
   "codemirror_mode": {
    "name": "ipython",
    "version": 3
   },
   "file_extension": ".py",
   "mimetype": "text/x-python",
   "name": "python",
   "nbconvert_exporter": "python",
   "pygments_lexer": "ipython3",
   "version": "3.7.7"
  }
 },
 "nbformat": 4,
 "nbformat_minor": 4
}
