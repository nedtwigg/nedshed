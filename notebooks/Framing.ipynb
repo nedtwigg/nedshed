{
 "cells": [
  {
   "cell_type": "markdown",
   "metadata": {},
   "source": [
    "# Framing plan"
   ]
  },
  {
   "cell_type": "code",
   "execution_count": 3,
   "metadata": {},
   "outputs": [
    {
     "name": "stdout",
     "output_type": "stream",
     "text": [
      "\n",
      "Enabling jupyter_cadquery replay\n"
     ]
    },
    {
     "name": "stderr",
     "output_type": "stream",
     "text": [
      "RuntimeWarning: jupyter_cadquery replay is enabled, turn off with disable_replay()"
     ]
    }
   ],
   "source": [
    "# cadquery imports\n",
    "import math\n",
    "import cadquery as cq\n",
    "from jupyter_cadquery.cadquery import (Assembly, Part, Edges, Faces, Vertices, show, \n",
    "                                       replay, enable_replay, disable_replay, reset_replay)\n",
    "from jupyter_cadquery import set_sidecar, set_defaults\n",
    "\n",
    "set_defaults(axes=True, edge_accuracy=0.05, grid=True, axes0=True)\n",
    "\n",
    "set_sidecar(\"CadQuery\")\n",
    "enable_replay()"
   ]
  },
  {
   "cell_type": "code",
   "execution_count": 7,
   "metadata": {},
   "outputs": [
    {
     "name": "stderr",
     "output_type": "stream",
     "text": [
      "RuntimeWarning: jupyter_cadquery replay is enabled, turn off with disable_replay()"
     ]
    },
    {
     "ename": "AttributeError",
     "evalue": "module 'cadquery' has no attribute 'Assembly'",
     "output_type": "error",
     "traceback": [
      "\u001b[0;31m---------------------------------------------------------------------------\u001b[0m",
      "\u001b[0;31mAttributeError\u001b[0m                            Traceback (most recent call last)",
      "\u001b[0;32m<ipython-input-7-1322e602ccb6>\u001b[0m in \u001b[0;36m<module>\u001b[0;34m\u001b[0m\n\u001b[1;32m     20\u001b[0m \u001b[0;34m\u001b[0m\u001b[0m\n\u001b[1;32m     21\u001b[0m \u001b[0mmywall\u001b[0m \u001b[0;34m=\u001b[0m \u001b[0mWall\u001b[0m\u001b[0;34m(\u001b[0m\u001b[0;36m8\u001b[0m\u001b[0;34m,\u001b[0m \u001b[0;36m8\u001b[0m\u001b[0;34m,\u001b[0m \u001b[0;36m6\u001b[0m\u001b[0;34m)\u001b[0m\u001b[0;34m\u001b[0m\u001b[0;34m\u001b[0m\u001b[0m\n\u001b[0;32m---> 22\u001b[0;31m \u001b[0mreplay\u001b[0m\u001b[0;34m(\u001b[0m\u001b[0mmywall\u001b[0m\u001b[0;34m.\u001b[0m\u001b[0mmodel\u001b[0m\u001b[0;34m(\u001b[0m\u001b[0;34m)\u001b[0m\u001b[0;34m)\u001b[0m\u001b[0;34m\u001b[0m\u001b[0;34m\u001b[0m\u001b[0m\n\u001b[0m",
      "\u001b[0;32m<ipython-input-7-1322e602ccb6>\u001b[0m in \u001b[0;36mmodel\u001b[0;34m(self)\u001b[0m\n\u001b[1;32m      9\u001b[0m \u001b[0;34m\u001b[0m\u001b[0m\n\u001b[1;32m     10\u001b[0m   \u001b[0;32mdef\u001b[0m \u001b[0mmodel\u001b[0m\u001b[0;34m(\u001b[0m\u001b[0mself\u001b[0m\u001b[0;34m)\u001b[0m\u001b[0;34m:\u001b[0m\u001b[0;34m\u001b[0m\u001b[0;34m\u001b[0m\u001b[0m\n\u001b[0;32m---> 11\u001b[0;31m     \u001b[0massembly\u001b[0m \u001b[0;34m=\u001b[0m \u001b[0mcq\u001b[0m\u001b[0;34m.\u001b[0m\u001b[0mAssembly\u001b[0m\u001b[0;34m(\u001b[0m\u001b[0;34m)\u001b[0m\u001b[0;34m\u001b[0m\u001b[0;34m\u001b[0m\u001b[0m\n\u001b[0m\u001b[1;32m     12\u001b[0m     \u001b[0;31m# baseplate\u001b[0m\u001b[0;34m\u001b[0m\u001b[0;34m\u001b[0m\u001b[0;34m\u001b[0m\u001b[0m\n\u001b[1;32m     13\u001b[0m     \u001b[0massembly\u001b[0m\u001b[0;34m.\u001b[0m\u001b[0madd\u001b[0m\u001b[0;34m(\u001b[0m\u001b[0mcq\u001b[0m\u001b[0;34m.\u001b[0m\u001b[0mworkplane\u001b[0m\u001b[0;34m(\u001b[0m\u001b[0;34m\"XY\"\u001b[0m\u001b[0;34m)\u001b[0m\u001b[0;34m.\u001b[0m\u001b[0mbox\u001b[0m\u001b[0;34m(\u001b[0m\u001b[0mself\u001b[0m\u001b[0;34m.\u001b[0m\u001b[0mwidth\u001b[0m\u001b[0;34m,\u001b[0m \u001b[0mself\u001b[0m\u001b[0;34m.\u001b[0m\u001b[0mboard_long\u001b[0m\u001b[0;34m,\u001b[0m \u001b[0mself\u001b[0m\u001b[0;34m.\u001b[0m\u001b[0mboard_short\u001b[0m\u001b[0;34m,\u001b[0m \u001b[0;34m(\u001b[0m\u001b[0;32mFalse\u001b[0m\u001b[0;34m,\u001b[0m \u001b[0;32mFalse\u001b[0m\u001b[0;34m,\u001b[0m \u001b[0;32mFalse\u001b[0m\u001b[0;34m)\u001b[0m\u001b[0;34m)\u001b[0m\u001b[0;34m)\u001b[0m\u001b[0;34m\u001b[0m\u001b[0;34m\u001b[0m\u001b[0m\n",
      "\u001b[0;31mAttributeError\u001b[0m: module 'cadquery' has no attribute 'Assembly'"
     ]
    }
   ],
   "source": [
    "class Wall:\n",
    "  def __init__(self, width, height_left, height_right):\n",
    "    self.width = width;\n",
    "    self.height_left = height_left\n",
    "    self.height_right = height_right\n",
    "    self.board_long = 3.5\n",
    "    self.board_short = 1.5\n",
    "    self.spacing = 16\n",
    "\n",
    "  def model(self):\n",
    "    assembly = cq.Assembly()\n",
    "    # baseplate\n",
    "    assembly.add(cq.workplane(\"XY\").box(self.width, self.board_long, self.board_short, (False, False, False)))\n",
    "#     def stud(x):\n",
    "#       height = self.height_left + x * (self.height_right - self.height_left) / self.width\n",
    "#       cq.workplane(\"XY\").box(self.board_height, self.board_width, height, (False, False, False)).translate((x, 0, 0))\n",
    "#     for x in range(self.board_height / 2, self.board_width - self.board_height, self.spacing):\n",
    "#       stud = cq.workplane(\"XY\").box(self.width, self.board_width, self.board_height, (False, False, False))\n",
    "    return assembly\n",
    "\n",
    "mywall = Wall(8, 8, 6)\n",
    "replay(mywall.model())"
   ]
  },
  {
   "cell_type": "code",
   "execution_count": null,
   "metadata": {},
   "outputs": [],
   "source": [
    "ft_side = 9.0\n",
    "ft_corner = 4.5\n",
    "\n",
    "ft_fence   = 6.0  # height along fence\n",
    "ft_cornerH = 7.0  # height at hip break\n",
    "ft_peak    = 8.0  # height at the peak\n",
    "\n",
    "\n",
    "def pts =    [(0,0),    (ft_side,0), (ft_side,ft_corner), (ft_corner,ft_side), (0,ft_side), (0,0)   ]\n",
    "def height = [ft_fence, ft_fence,    ft_cornerH,          ft_cornerH,          ft_fence,   ft_fence ]\n",
    "\n",
    "\n",
    "for i in range(0, len(pts) - 1):\n",
    "  \n"
   ]
  }
 ],
 "metadata": {
  "kernelspec": {
   "display_name": "Python 3",
   "language": "python",
   "name": "python3"
  },
  "language_info": {
   "codemirror_mode": {
    "name": "ipython",
    "version": 3
   },
   "file_extension": ".py",
   "mimetype": "text/x-python",
   "name": "python",
   "nbconvert_exporter": "python",
   "pygments_lexer": "ipython3",
   "version": "3.7.7"
  }
 },
 "nbformat": 4,
 "nbformat_minor": 4
}
