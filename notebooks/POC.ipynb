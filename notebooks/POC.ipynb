{
 "cells": [
  {
   "cell_type": "markdown",
   "metadata": {},
   "source": [
    "# Roof geometry POC\n",
    "\n",
    "The purpose of this notebook is to see how different slopes look visually, as well as how they perform in terms of drainage angles.\n",
    "\n",
    "One edge-case is to set the stern drop to 0. In this scenario, the entire fence wall is the same height. This makes framing (especially the roof) easier, but it brings challenges for standing water along that edge. Extending the roof in the back corner can help that somewhat.\n",
    "\n",
    "Another edge-case is to set the stern drop equal to the bow rise. In this scenario, you end up with a flat roof, but the special property that all water will drain to the back corner.\n",
    "\n",
    "Helpful references:\n",
    "\n",
    "- [Plasticine Roof framing guide](https://plasticinehouse.com/shed-roof-framing-guide/)\n",
    "- [Hurricane Ties](https://www.amazon.com/dp/B00IHIALOC?tag=plasticinehouse-20&linkCode=ogi&th=1&psc=1), for the top plate\n",
    "- [LSSJ slopeable/skewable jack hangers](https://www.strongtie.com/facemounthangersssl_solidsawnlumberconnector/lssj_hanger/p/lssj) along the jack rafters"
   ]
  },
  {
   "cell_type": "code",
   "execution_count": 1,
   "metadata": {},
   "outputs": [
    {
     "name": "stdout",
     "output_type": "stream",
     "text": [
      "Overwriting auto display for cadquery Workplane and Shape\n",
      "\n",
      "Enabling jupyter_cadquery replay\n"
     ]
    }
   ],
   "source": [
    "# cadquery imports\n",
    "import math\n",
    "import cadquery as cq\n",
    "from jupyter_cadquery.cadquery import (Assembly, Part, Edges, Faces, Vertices, show, \n",
    "                                       replay, enable_replay, disable_replay, reset_replay)\n",
    "from jupyter_cadquery import set_sidecar, set_defaults\n",
    "set_defaults(axes=True, edge_accuracy=0.05, grid=True, axes0=True)"
   ]
  },
  {
   "cell_type": "code",
   "execution_count": 3,
   "metadata": {},
   "outputs": [
    {
     "name": "stderr",
     "output_type": "stream",
     "text": [
      "RuntimeWarning: jupyter_cadquery replay is enabled, turn off with disable_replay()"
     ]
    },
    {
     "data": {
      "application/vnd.jupyter.widget-view+json": {
       "model_id": "4ee0bc72da6a466fb54ee39d3bb609a6",
       "version_major": 2,
       "version_minor": 0
      },
      "text/plain": [
       "HBox(children=(VBox(children=(HBox(children=(Checkbox(value=True, description='Axes', indent=False, _dom_class…"
      ]
     },
     "metadata": {},
     "output_type": "display_data"
    },
    {
     "name": "stdout",
     "output_type": "stream",
     "text": [
      "{'deg_fence': 11.309932474020215, 'deg_yard': 0.0, 'deg_drain': 11.309932474020195}\n"
     ]
    }
   ],
   "source": [
    "# define the shed geometry\n",
    "ft_size   = 10.0 # side of square\n",
    "ft_corner = 6.0  # height at the side corners\n",
    "ft_rise   = 2.0  # rise at the top\n",
    "ft_drop   = 0.0  # drop at the back\n",
    "\n",
    "deg_fence = math.degrees(math.atan(ft_rise / ft_size))\n",
    "deg_yard = math.degrees(math.atan(ft_drop / ft_size))\n",
    "deg_drain = math.degrees(math.acos(ft_size / math.sqrt(ft_size*ft_size + ft_rise*ft_rise + ft_drop*ft_drop)))\n",
    "\n",
    "triprism = cq.Workplane(\"XY\").lineTo(ft_size, 0).lineTo(0, ft_size).close().extrude(2 * ft_corner)\n",
    "cutplane = triprism.copyWorkplane(cq.Workplane('XY', (0, 0, ft_corner))).transformed((deg_fence, deg_yard, 0))\n",
    "oneside = cutplane.split(keepBottom=True)\n",
    "\n",
    "# show the full shed\n",
    "nearside = oneside.translate((-ft_size, 0))\\\n",
    "    .rotate((0,0,0),(0,0,1),-45)\n",
    "farside = nearside.mirror('YZ', (0,0,0))\n",
    "full = farside.union(nearside).rotate((0,0,0),(0,0,1),-45)\n",
    "show(full)\n",
    "\n",
    "print({\"deg_fence\": deg_fence, \"deg_yard\": deg_yard, \"deg_drain\": deg_drain})"
   ]
  }
 ],
 "metadata": {
  "kernelspec": {
   "display_name": "Python 3",
   "language": "python",
   "name": "python3"
  },
  "language_info": {
   "codemirror_mode": {
    "name": "ipython",
    "version": 3
   },
   "file_extension": ".py",
   "mimetype": "text/x-python",
   "name": "python",
   "nbconvert_exporter": "python",
   "pygments_lexer": "ipython3",
   "version": "3.7.7"
  }
 },
 "nbformat": 4,
 "nbformat_minor": 4
}
